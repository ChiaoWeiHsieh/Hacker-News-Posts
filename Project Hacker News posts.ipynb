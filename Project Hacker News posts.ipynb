{
 "cells": [
  {
   "cell_type": "markdown",
   "metadata": {},
   "source": [
    "# Exploring Hacker News Posts\n",
    "\n",
    "## Table of Contents\n",
    "### &ensp;&ensp; 1. [Opening and Exploring the Dataset](#1.)\n",
    "### &ensp;&ensp; 2. [Extracting Ask HN & Show HN Posts](#2.)\n",
    "### &ensp;&ensp; 3. [Analysing the Dataset](#3.)\n",
    "### &ensp;&ensp; 4. [Conclusion](#4.)"
   ]
  },
  {
   "cell_type": "markdown",
   "metadata": {
    "collapsed": true
   },
   "source": [
    "## Abstract\n",
    "This project aims to analyse Hacker News posts using a dataset derived from [kaggle](https://www.kaggle.com/datasets/hacker-news/hacker-news-posts) with a goal to answer the below 2 questions:\n",
    "- Do`Ask HN posts`or`Show HN posts`receive more comments on average?\n",
    "  - An`Ask HN`post is a type of post users submit to ask a specific question on the Hacker News community, such as \"How to improve my personal website?\" \n",
    "  - A`Show HN`post is a type of post users submit to show a project, product, or just generally something interesting on the Hacker News community.\n",
    "- Do posts created at a certain time receive more comments on average?\n",
    "\n",
    "  \n",
    "  \n",
    "Note that this project provides opportunities for me to understand and practise the below basic skills:\n",
    "1. Use the datetime module and its time class.\n",
    "2. Use the sorted(iterable_object, key, reverse=False) function to sort the order in a list.\n",
    "3. Use dictionary to make frequency tables, and calcuate the average values of the data."
   ]
  },
  {
   "cell_type": "markdown",
   "metadata": {},
   "source": [
    "## 1. Opening and Exploring the Dataset\n",
    "In this section,a dataset`hacker_news.csv`will be opened and read into a list of lists for preliminary exploration."
   ]
  },
  {
   "cell_type": "code",
   "execution_count": 1,
   "metadata": {},
   "outputs": [
    {
     "data": {
      "text/plain": [
       "[['id', 'title', 'url', 'num_points', 'num_comments', 'author', 'created_at'],\n",
       " ['12224879',\n",
       "  'Interactive Dynamic Video',\n",
       "  'http://www.interactivedynamicvideo.com/',\n",
       "  '386',\n",
       "  '52',\n",
       "  'ne0phyte',\n",
       "  '8/4/2016 11:52'],\n",
       " ['10975351',\n",
       "  'How to Use Open Source and Shut the Fuck Up at the Same Time',\n",
       "  'http://hueniverse.com/2016/01/26/how-to-use-open-source-and-shut-the-fuck-up-at-the-same-time/',\n",
       "  '39',\n",
       "  '10',\n",
       "  'josep2',\n",
       "  '1/26/2016 19:30'],\n",
       " ['11964716',\n",
       "  \"Florida DJs May Face Felony for April Fools' Water Joke\",\n",
       "  'http://www.thewire.com/entertainment/2013/04/florida-djs-april-fools-water-joke/63798/',\n",
       "  '2',\n",
       "  '1',\n",
       "  'vezycash',\n",
       "  '6/23/2016 22:20'],\n",
       " ['11919867',\n",
       "  'Technology ventures: From Idea to Enterprise',\n",
       "  'https://www.amazon.com/Technology-Ventures-Enterprise-Thomas-Byers/dp/0073523429',\n",
       "  '3',\n",
       "  '1',\n",
       "  'hswarna',\n",
       "  '6/17/2016 0:01']]"
      ]
     },
     "execution_count": 1,
     "metadata": {},
     "output_type": "execute_result"
    }
   ],
   "source": [
    "# Read the CSV file into a list of lists\n",
    "from csv import reader\n",
    "opened_file = open('hacker_news.csv', encoding='utf8')\n",
    "hn = list(reader(opened_file))\n",
    "\n",
    "# Check the first 5 rows\n",
    "hn[:5]"
   ]
  },
  {
   "cell_type": "code",
   "execution_count": 2,
   "metadata": {
    "scrolled": true
   },
   "outputs": [
    {
     "name": "stdout",
     "output_type": "stream",
     "text": [
      "Headers:\n",
      "\n",
      "['id', 'title', 'url', 'num_points', 'num_comments', 'author', 'created_at']\n",
      "\n",
      "First 5 rows:\n",
      "\n",
      "['12224879', 'Interactive Dynamic Video', 'http://www.interactivedynamicvideo.com/', '386', '52', 'ne0phyte', '8/4/2016 11:52']\n",
      "\n",
      "['10975351', 'How to Use Open Source and Shut the Fuck Up at the Same Time', 'http://hueniverse.com/2016/01/26/how-to-use-open-source-and-shut-the-fuck-up-at-the-same-time/', '39', '10', 'josep2', '1/26/2016 19:30']\n",
      "\n",
      "['11964716', \"Florida DJs May Face Felony for April Fools' Water Joke\", 'http://www.thewire.com/entertainment/2013/04/florida-djs-april-fools-water-joke/63798/', '2', '1', 'vezycash', '6/23/2016 22:20']\n",
      "\n",
      "['11919867', 'Technology ventures: From Idea to Enterprise', 'https://www.amazon.com/Technology-Ventures-Enterprise-Thomas-Byers/dp/0073523429', '3', '1', 'hswarna', '6/17/2016 0:01']\n",
      "\n",
      "['10301696', 'Note by Note: The Making of Steinway L1037 (2007)', 'http://www.nytimes.com/2007/11/07/movies/07stein.html?_r=0', '8', '2', 'walterbell', '9/30/2015 4:12']\n",
      "\n"
     ]
    }
   ],
   "source": [
    "# Remove the header\n",
    "headers = hn[0]\n",
    "hn = hn[1:]\n",
    "print('Headers:\\n')\n",
    "print(headers)\n",
    "print()\n",
    "print('First 5 rows:\\n')\n",
    "for i in range(5):\n",
    "    print(hn[i])\n",
    "    print()"
   ]
  },
  {
   "cell_type": "markdown",
   "metadata": {},
   "source": [
    "The below table shows each column's name and its desciption in the dataset.\n",
    "\n",
    "| Column      | Description |\n",
    "| :-----------: | :----------- |\n",
    "| id | The unique identifier from Hacker News for the post |\n",
    "| title | The title of the post |\n",
    "| url | The URL that the posts links to, the post might not contain a URL |\n",
    "| num_points | The number of points the post acquired, calculated as the total number of upvotes minus the total number of downvotes |\n",
    "| num_comments | The number of comments that were made on the post |\n",
    "| author | The username of the person who submitted the post |\n",
    "| created_at | The date and time at which the post was submitted (Eastern Time in the US, GMT -5 hours)|\n"
   ]
  },
  {
   "cell_type": "markdown",
   "metadata": {},
   "source": [
    "## 2. Extracting Ask HN & Show HN Posts\n",
    "Since we are only concerned with the posts that begin with either`Ask HN`or`Show HN`, the following step will use the`string.lower().startswith()`method to find these posts and store them into their corresponding list."
   ]
  },
  {
   "cell_type": "code",
   "execution_count": 3,
   "metadata": {},
   "outputs": [
    {
     "name": "stdout",
     "output_type": "stream",
     "text": [
      "The number of posts that begins with \"Ask HN\" is: 1744\n",
      "\n",
      "The number of posts that begins with \"Show HN\" is: 1162\n",
      "\n",
      "The number of posts that does not begin with \"Ask Hn\" nor \"Ask HN\" is: 17194\n"
     ]
    }
   ],
   "source": [
    "# Create 3 empty lists\n",
    "ask_posts = []\n",
    "show_posts = []\n",
    "other_posts = []\n",
    "\n",
    "# Loop through each row in `hn`\n",
    "for row in hn:\n",
    "    title = row[1]\n",
    "    if title.lower().startswith('ask hn'):\n",
    "        ask_posts.append(row)\n",
    "    elif title.lower().startswith('show hn'):\n",
    "        show_posts.append(row)\n",
    "    else:\n",
    "        other_posts.append(row)\n",
    "\n",
    "print('The number of posts that begins with \"Ask HN\" is:', len(ask_posts))\n",
    "print()\n",
    "print('The number of posts that begins with \"Show HN\" is:', len(show_posts))\n",
    "print()\n",
    "print('The number of posts that does not begin with \"Ask Hn\" nor \"Ask HN\" is:', len(other_posts)) "
   ]
  },
  {
   "cell_type": "markdown",
   "metadata": {},
   "source": [
    "### 2.1. Ask HN Posts"
   ]
  },
  {
   "cell_type": "code",
   "execution_count": 4,
   "metadata": {},
   "outputs": [
    {
     "data": {
      "text/plain": [
       "[['12296411',\n",
       "  'Ask HN: How to improve my personal website?',\n",
       "  '',\n",
       "  '2',\n",
       "  '6',\n",
       "  'ahmedbaracat',\n",
       "  '8/16/2016 9:55'],\n",
       " ['10610020',\n",
       "  'Ask HN: Am I the only one outraged by Twitter shutting down share counts?',\n",
       "  '',\n",
       "  '28',\n",
       "  '29',\n",
       "  'tkfx',\n",
       "  '11/22/2015 13:43'],\n",
       " ['11610310',\n",
       "  'Ask HN: Aby recent changes to CSS that broke mobile?',\n",
       "  '',\n",
       "  '1',\n",
       "  '1',\n",
       "  'polskibus',\n",
       "  '5/2/2016 10:14'],\n",
       " ['12210105',\n",
       "  'Ask HN: Looking for Employee #3 How do I do it?',\n",
       "  '',\n",
       "  '1',\n",
       "  '3',\n",
       "  'sph130',\n",
       "  '8/2/2016 14:20'],\n",
       " ['10394168',\n",
       "  'Ask HN: Someone offered to buy my browser extension from me. What now?',\n",
       "  '',\n",
       "  '28',\n",
       "  '17',\n",
       "  'roykolak',\n",
       "  '10/15/2015 16:38']]"
      ]
     },
     "execution_count": 4,
     "metadata": {},
     "output_type": "execute_result"
    }
   ],
   "source": [
    "# Check the first 5 rows in ask_posts\n",
    "ask_posts[:5]"
   ]
  },
  {
   "cell_type": "markdown",
   "metadata": {},
   "source": [
    "### 2.2. Show HN Posts"
   ]
  },
  {
   "cell_type": "code",
   "execution_count": 5,
   "metadata": {},
   "outputs": [
    {
     "data": {
      "text/plain": [
       "[['10627194',\n",
       "  'Show HN: Wio Link  ESP8266 Based Web of Things Hardware Development Platform',\n",
       "  'https://iot.seeed.cc',\n",
       "  '26',\n",
       "  '22',\n",
       "  'kfihihc',\n",
       "  '11/25/2015 14:03'],\n",
       " ['10646440',\n",
       "  'Show HN: Something pointless I made',\n",
       "  'http://dn.ht/picklecat/',\n",
       "  '747',\n",
       "  '102',\n",
       "  'dhotson',\n",
       "  '11/29/2015 22:46'],\n",
       " ['11590768',\n",
       "  'Show HN: Shanhu.io, a programming playground powered by e8vm',\n",
       "  'https://shanhu.io',\n",
       "  '1',\n",
       "  '1',\n",
       "  'h8liu',\n",
       "  '4/28/2016 18:05'],\n",
       " ['12178806',\n",
       "  'Show HN: Webscope  Easy way for web developers to communicate with Clients',\n",
       "  'http://webscopeapp.com',\n",
       "  '3',\n",
       "  '3',\n",
       "  'fastbrick',\n",
       "  '7/28/2016 7:11'],\n",
       " ['10872799',\n",
       "  'Show HN: GeoScreenshot  Easily test Geo-IP based web pages',\n",
       "  'https://www.geoscreenshot.com/',\n",
       "  '1',\n",
       "  '9',\n",
       "  'kpsychwave',\n",
       "  '1/9/2016 20:45']]"
      ]
     },
     "execution_count": 5,
     "metadata": {},
     "output_type": "execute_result"
    }
   ],
   "source": [
    "# Check the first 5 rows in show_posts\n",
    "show_posts[:5]"
   ]
  },
  {
   "cell_type": "markdown",
   "metadata": {},
   "source": [
    "## 3. Analysing the Dataset"
   ]
  },
  {
   "cell_type": "markdown",
   "metadata": {},
   "source": [
    "### 3.1. Calculating Average Number of Comments for Ask HN & Show HN Posts"
   ]
  },
  {
   "cell_type": "code",
   "execution_count": 6,
   "metadata": {},
   "outputs": [
    {
     "name": "stdout",
     "output_type": "stream",
     "text": [
      "The average number of comments for each Ask HN post is: 14.038417431192661\n"
     ]
    }
   ],
   "source": [
    "# Create a variable that will be adding up the number of comments for Ask HN during a loop\n",
    "total_ask_comments = 0\n",
    "\n",
    "for row in ask_posts:\n",
    "    num_comments = int(row[4])\n",
    "    total_ask_comments += num_comments\n",
    "\n",
    "avg_ask_comments = total_ask_comments / len(ask_posts)    \n",
    "\n",
    "print('The average number of comments for each Ask HN post is:', avg_ask_comments)"
   ]
  },
  {
   "cell_type": "code",
   "execution_count": 7,
   "metadata": {},
   "outputs": [
    {
     "name": "stdout",
     "output_type": "stream",
     "text": [
      "The average number of comments for each Show HN post is: 10.31669535283993\n"
     ]
    }
   ],
   "source": [
    "# Create a variable that will be adding up the number of comments for Ask HN during a loop\n",
    "total_show_comments = 0\n",
    "\n",
    "for row in show_posts:\n",
    "    num_comments = int(row[4])\n",
    "    total_show_comments += num_comments\n",
    "\n",
    "avg_show_comments = total_show_comments / len(show_posts)    \n",
    "\n",
    "print('The average number of comments for each Show HN post is:', avg_show_comments)"
   ]
  },
  {
   "cell_type": "markdown",
   "metadata": {},
   "source": [
    "## Based on the above result:\n",
    "- On average, the Ask HN posts (14.04) received more comments than the Show HN posts (10.32) in the dataset.\n",
    "- Accordingly, we will be looking into the Ask HN posts for the following analysis."
   ]
  },
  {
   "cell_type": "markdown",
   "metadata": {},
   "source": [
    "### 3.2. Calculating Number of Ask HN Posts and Comments Created by Hour\n",
    "In this section, we aim to find whether Ask HN posts created at a certain time were more likely to receive comments. The analysis will be conducted following the below steps:\n",
    "1. Calculate the amount of ask posts created in each hour of the day, along with the number of comments received.\n",
    "2. Calculate the average number of comments ask posts receive by hour created."
   ]
  },
  {
   "cell_type": "markdown",
   "metadata": {},
   "source": [
    "### 3.2.1. Obtain the number of Ask HN Posts created by Hour and the number of its corresponding comments"
   ]
  },
  {
   "cell_type": "code",
   "execution_count": 8,
   "metadata": {},
   "outputs": [
    {
     "data": {
      "text/plain": [
       "[['8/16/2016 9:55', 6],\n",
       " ['11/22/2015 13:43', 29],\n",
       " ['5/2/2016 10:14', 1],\n",
       " ['8/2/2016 14:20', 3],\n",
       " ['10/15/2015 16:38', 17]]"
      ]
     },
     "execution_count": 8,
     "metadata": {},
     "output_type": "execute_result"
    }
   ],
   "source": [
    "import datetime as dt\n",
    "result_list = []\n",
    "\n",
    "# Loop through ask_posts and append the created time for each post and the number of comments it received to result_list.\n",
    "for row in ask_posts:\n",
    "    created_at = row[6]\n",
    "    num_comments = int(row[4])\n",
    "    result_list.append([created_at, num_comments])\n",
    "\n",
    "result_list[:5] "
   ]
  },
  {
   "cell_type": "markdown",
   "metadata": {},
   "source": [
    "In the following cell, two empty dictionaries will be created with:\n",
    "- `counts_by_hour`, which contains the number of ask posts created during each hour of the day.\n",
    "- `comments_by_hour`, which contains the corresponding number of comments ask posts created at each hour received."
   ]
  },
  {
   "cell_type": "code",
   "execution_count": 9,
   "metadata": {},
   "outputs": [
    {
     "name": "stdout",
     "output_type": "stream",
     "text": [
      "{9: 45, 13: 85, 10: 59, 14: 107, 16: 108, 23: 68, 12: 73, 17: 100, 15: 116, 21: 109, 20: 80, 2: 58, 18: 109, 3: 54, 5: 46, 19: 110, 1: 60, 22: 71, 8: 48, 4: 47, 0: 55, 6: 44, 7: 34, 11: 58}\n",
      "\n",
      "{9: 251, 13: 1253, 10: 793, 14: 1416, 16: 1814, 23: 543, 12: 687, 17: 1146, 15: 4477, 21: 1745, 20: 1722, 2: 1381, 18: 1439, 3: 421, 5: 464, 19: 1188, 1: 683, 22: 479, 8: 492, 4: 337, 0: 447, 6: 397, 7: 267, 11: 641}\n"
     ]
    }
   ],
   "source": [
    "# Create two empty dictionaries\n",
    "counts_hour = {}\n",
    "counts_comment = {}\n",
    "\n",
    "# Loop through result_list\n",
    "for row in result_list:\n",
    "    date_str = row[0]\n",
    "    comment_count = row[1]\n",
    "    # Use the strptime() method to parse the datetime, which returns a datetime object\n",
    "    date_dt = dt.datetime.strptime(date_str, '%m/%d/%Y %H:%M')\n",
    "    # Use the strftime() method to format the time, which returns a string object\n",
    "    time_object = dt.datetime.strftime(date_dt, '%-H')\n",
    "    time_object = int(time_object) # Convert str into int for the sorting later in dictionary\n",
    "    if time_object in counts_hour:\n",
    "        counts_hour[time_object] += 1\n",
    "        counts_comment[time_object] += comment_count\n",
    "    else:\n",
    "        counts_hour[time_object] = 1\n",
    "        counts_comment[time_object] = comment_count\n",
    "\n",
    "print(counts_hour)\n",
    "print()\n",
    "print(counts_comment)"
   ]
  },
  {
   "cell_type": "code",
   "execution_count": 10,
   "metadata": {},
   "outputs": [
    {
     "data": {
      "text/plain": [
       "[(0, 55),\n",
       " (1, 60),\n",
       " (2, 58),\n",
       " (3, 54),\n",
       " (4, 47),\n",
       " (5, 46),\n",
       " (6, 44),\n",
       " (7, 34),\n",
       " (8, 48),\n",
       " (9, 45),\n",
       " (10, 59),\n",
       " (11, 58),\n",
       " (12, 73),\n",
       " (13, 85),\n",
       " (14, 107),\n",
       " (15, 116),\n",
       " (16, 108),\n",
       " (17, 100),\n",
       " (18, 109),\n",
       " (19, 110),\n",
       " (20, 80),\n",
       " (21, 109),\n",
       " (22, 71),\n",
       " (23, 68)]"
      ]
     },
     "execution_count": 10,
     "metadata": {},
     "output_type": "execute_result"
    }
   ],
   "source": [
    "# Sort the dictionary by hour\n",
    "sorted_counts_hour = sorted(counts_hour.items(), key=lambda x:x[0])\n",
    "sorted_counts_comment = sorted(counts_comment.items(), key=lambda x:x[0])\n",
    "\n",
    "# The number of posts created by hour\n",
    "sorted_counts_hour"
   ]
  },
  {
   "cell_type": "code",
   "execution_count": 11,
   "metadata": {},
   "outputs": [
    {
     "data": {
      "text/plain": [
       "[(0, 447),\n",
       " (1, 683),\n",
       " (2, 1381),\n",
       " (3, 421),\n",
       " (4, 337),\n",
       " (5, 464),\n",
       " (6, 397),\n",
       " (7, 267),\n",
       " (8, 492),\n",
       " (9, 251),\n",
       " (10, 793),\n",
       " (11, 641),\n",
       " (12, 687),\n",
       " (13, 1253),\n",
       " (14, 1416),\n",
       " (15, 4477),\n",
       " (16, 1814),\n",
       " (17, 1146),\n",
       " (18, 1439),\n",
       " (19, 1188),\n",
       " (20, 1722),\n",
       " (21, 1745),\n",
       " (22, 479),\n",
       " (23, 543)]"
      ]
     },
     "execution_count": 11,
     "metadata": {},
     "output_type": "execute_result"
    }
   ],
   "source": [
    "# The number of comments recevied by posts created by hour\n",
    "sorted_counts_comment"
   ]
  },
  {
   "cell_type": "markdown",
   "metadata": {},
   "source": [
    "### 3.2.2. Calculate the Average number of Comments for Ask HN Post by Hour"
   ]
  },
  {
   "cell_type": "code",
   "execution_count": 12,
   "metadata": {},
   "outputs": [
    {
     "data": {
      "text/plain": [
       "[[15, 38.5948275862069],\n",
       " [2, 23.810344827586206],\n",
       " [20, 21.525],\n",
       " [16, 16.796296296296298],\n",
       " [21, 16.009174311926607],\n",
       " [13, 14.741176470588234],\n",
       " [10, 13.440677966101696],\n",
       " [14, 13.233644859813085],\n",
       " [18, 13.20183486238532],\n",
       " [17, 11.46],\n",
       " [1, 11.383333333333333],\n",
       " [11, 11.051724137931034],\n",
       " [19, 10.8],\n",
       " [8, 10.25],\n",
       " [5, 10.08695652173913],\n",
       " [12, 9.41095890410959],\n",
       " [6, 9.022727272727273],\n",
       " [0, 8.127272727272727],\n",
       " [23, 7.985294117647059],\n",
       " [7, 7.852941176470588],\n",
       " [3, 7.796296296296297],\n",
       " [4, 7.170212765957447],\n",
       " [22, 6.746478873239437],\n",
       " [9, 5.5777777777777775]]"
      ]
     },
     "execution_count": 12,
     "metadata": {},
     "output_type": "execute_result"
    }
   ],
   "source": [
    "avg_by_hour = []\n",
    "for hour in counts_hour:\n",
    "    avg_by_hour.append([hour, counts_comment[hour]/counts_hour[hour]])\n",
    "# Sort the list in descending order based on the average number of comments    \n",
    "avg_by_hour = sorted(avg_by_hour, key=lambda x:x[1], reverse=True)\n",
    "avg_by_hour"
   ]
  },
  {
   "cell_type": "markdown",
   "metadata": {},
   "source": [
    "Since it is difficult to understand the above information, the following cell will use the methods below to format our result and increase its readability:\n",
    "- The`datetime.strptime()`constructor to create a datetime object with the hour\n",
    "- The`datetime.strftime()`method to format the hour\n",
    "- The`str.format()`method with {:.2f} to format the average number to two decimal places"
   ]
  },
  {
   "cell_type": "code",
   "execution_count": 13,
   "metadata": {},
   "outputs": [
    {
     "name": "stdout",
     "output_type": "stream",
     "text": [
      "The Top 5 Hours for Ask HN Comments:\n",
      "At 15pm, 38.59 comments per post\n",
      "At 02am, 23.81 comments per post\n",
      "At 20pm, 21.52 comments per post\n",
      "At 16pm, 16.80 comments per post\n",
      "At 21pm, 16.01 comments per post\n"
     ]
    }
   ],
   "source": [
    "print('The Top 5 Hours for Ask HN Comments:')\n",
    "for hr, avg in avg_by_hour[:5]:\n",
    "    hour = dt.time(hr)\n",
    "    hour_str = hour.strftime('%H%P')\n",
    "    message = 'At {}, {:.2f} comments per post'\n",
    "    print(message.format(hour_str, avg))"
   ]
  },
  {
   "cell_type": "markdown",
   "metadata": {},
   "source": [
    "## Based on the above result:\n",
    "- On average, the hour that received the highest number of comments per post was`15pm (the time zone is Eastern Time in the US, GMT -5 hours)`with an average`38.59 comments per post`.\n",
    "- It was about a 60% increase in the number of received comments compared to posts created at 2am that received the 2nd highest average number of comments with an average 23.81 comments per post."
   ]
  },
  {
   "cell_type": "markdown",
   "metadata": {},
   "source": [
    "## 4. Conclusion\n",
    "In this project, we analysed the`Ask post`and`Show post`of Hacker News to find out which type of the post received more comments on average, and whether the post created at a certain time period received more comments than others. \n",
    "\n",
    "The results suggested that creating an`Ask post`at`15am (Eastern Time in the US, GMT -5 hours)`would be more likely to receve comments."
   ]
  }
 ],
 "metadata": {
  "kernelspec": {
   "display_name": "Python 3",
   "language": "python",
   "name": "python3"
  },
  "language_info": {
   "codemirror_mode": {
    "name": "ipython",
    "version": 3
   },
   "file_extension": ".py",
   "mimetype": "text/x-python",
   "name": "python",
   "nbconvert_exporter": "python",
   "pygments_lexer": "ipython3",
   "version": "3.8.2"
  }
 },
 "nbformat": 4,
 "nbformat_minor": 2
}
